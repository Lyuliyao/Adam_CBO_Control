{
 "cells": [
  {
   "cell_type": "code",
   "execution_count": 14,
   "metadata": {},
   "outputs": [],
   "source": [
    "import numpy as np\n",
    "import matplotlib.pyplot as plt"
   ]
  },
  {
   "cell_type": "code",
   "execution_count": 2,
   "metadata": {},
   "outputs": [
    {
     "name": "stdout",
     "output_type": "stream",
     "text": [
      "[30.565973   27.841192   25.073025   22.240683   19.313917   16.247917\n",
      " 12.975304    9.391461    5.3270392   0.49055502]\n"
     ]
    },
    {
     "data": {
      "text/plain": [
       "[<matplotlib.lines.Line2D at 0x153ab3f0e090>]"
      ]
     },
     "execution_count": 2,
     "metadata": {},
     "output_type": "execute_result"
    },
    {
     "data": {
      "image/png": "[encoded data removed]",
      "text/plain": [
       "<Figure size 640x480 with 1 Axes>"
      ]
     },
     "metadata": {},
     "output_type": "display_data"
    }
   ],
   "source": [
    "data = np.load(\"./result_1/value_test_mv_50_gaussian.npz\")\n",
    "print(data[\"value_test1\"])\n",
    "plt.plot(data[\"value_test1\"]/50)\n",
    "plt.plot(data[\"value_test2\"]/50,\":\")\n",
    "data = np.load(\"./result_1/value_test_mv_100_gaussian.npz\")\n",
    "plt.plot(data[\"value_test1\"]/100,\"o-\")\n",
    "data = np.load(\"./result_1/value_test_mv_200_gaussian.npz\")\n",
    "plt.plot(data[\"value_test1\"]/200,\"*-\")\n",
    "data = np.load(\"./result_1/value_test_mv_400_gaussian.npz\")\n",
    "plt.plot(data[\"value_test1\"]/400,\".-\")\n",
    "data = np.load(\"./result_1/value_test_mv_800_gaussian.npz\")\n",
    "plt.plot(data[\"value_test1\"]/800,\"--\")"
   ]
  },
  {
   "cell_type": "code",
   "execution_count": 27,
   "metadata": {},
   "outputs": [
    {
     "name": "stdout",
     "output_type": "stream",
     "text": [
      "\n",
      "\\begin{table}[ht]\n",
      "\\centering\n",
      "\\begin{tabular}{|c|\" + \"c\" * len(data_dict) + \"|}\n",
      "\\hline\n",
      "Divisor & ./result_1/value_test_mv_50_gaussian.npz & ./result_1/value_test_mv_100_gaussian.npz & ./result_1/value_test_mv_200_gaussian.npz & ./result_1/value_test_mv_400_gaussian.npz & ./result_1/value_test_mv_800_gaussian.npz \\\\\n",
      "\\hline\n",
      "0.0 & 0.607 & 0.614 & 0.618 & 0.619 & 0.620 & 0.616 \\\\ \n",
      "0.1 & 0.553 & 0.559 & 0.563 & 0.564 & 0.565 & 0.561 \\\\ \n",
      "0.2 & 0.498 & 0.504 & 0.507 & 0.508 & 0.509 & 0.506 \\\\ \n",
      "0.3 & 0.442 & 0.447 & 0.450 & 0.451 & 0.451 & 0.449 \\\\ \n",
      "0.4 & 0.384 & 0.388 & 0.391 & 0.391 & 0.392 & 0.390 \\\\ \n",
      "0.5 & 0.323 & 0.326 & 0.329 & 0.329 & 0.330 & 0.329 \\\\ \n",
      "0.6 & 0.258 & 0.260 & 0.262 & 0.263 & 0.263 & 0.262 \\\\ \n",
      "0.7 & 0.187 & 0.188 & 0.190 & 0.190 & 0.190 & 0.190 \\\\ \n",
      "0.8 & 0.106 & 0.107 & 0.108 & 0.108 & 0.108 & 0.108 \\\\ \n",
      "0.9 & 0.010 & 0.010 & 0.010 & 0.010 & 0.010 & 0.010 \\\\ \n",
      "\n",
      "\\hline\n",
      "\\end{tabular}\n",
      "\\caption{Values of `value_test1` for different test cases.}\n",
      "\\label{tab:value_test1}\n",
      "\\end{table}\n",
      "\n"
     ]
    }
   ],
   "source": [
    "import numpy as np\n",
    "\n",
    "# File paths and their corresponding divisors\n",
    "data_files = [\n",
    "    (\"./result_1/value_test_mv_50_gaussian.npz\", 50),\n",
    "    (\"./result_1/value_test_mv_100_gaussian.npz\", 100),\n",
    "    (\"./result_1/value_test_mv_200_gaussian.npz\", 200),\n",
    "    (\"./result_1/value_test_mv_400_gaussian.npz\", 400),\n",
    "    (\"./result_1/value_test_mv_800_gaussian.npz\", 800)\n",
    "]\n",
    "\n",
    "# Load the data and create lists to store the values\n",
    "data_dict = {}\n",
    "for file_path, divisor in data_files:\n",
    "    data = np.load(file_path)\n",
    "    values = data[\"value_test1\"] / divisor\n",
    "    data_dict[divisor] = values\n",
    "data_dict[\"exact\"] = np.load(\"./result_1/value_test_mv_50_gaussian.npz\")[\"value_test2\"]/50\n",
    "# Get the maximum length of the value lists\n",
    "max_length = max(len(values) for values in data_dict.values())\n",
    "\n",
    "# Initialize the LaTeX table with headers\n",
    "latex_table = \"\"\"\n",
    "\\\\begin{table}[ht]\n",
    "\\\\centering\n",
    "\\\\begin{tabular}{|c|\" + \"c\" * len(data_dict) + \"|}\n",
    "\\\\hline\n",
    "Divisor & \"\"\" + \" & \".join(f\"{divisor}\" for divisor, _ in data_files) + \"\"\" \\\\\\\\\n",
    "\\\\hline\n",
    "\"\"\"\n",
    "\n",
    "# Add rows for each index\n",
    "for i in range(max_length):\n",
    "    row = [str(i/10)]  # Start with the index column\n",
    "    for divisor in [50, 100, 200, 400, 800,\"exact\"]:\n",
    "        row.append(f\"{data_dict[divisor][i]:.3f}\" if i < len(data_dict[divisor]) else \"N/A\")\n",
    "    latex_table += \" & \".join(row) + \" \\\\\\\\ \\n\"\n",
    "\n",
    "# Close the LaTeX table\n",
    "latex_table += \"\"\"\n",
    "\\\\hline\n",
    "\\\\end{tabular}\n",
    "\\\\caption{Values of `value_test1` for different test cases.}\n",
    "\\\\label{tab:value_test1}\n",
    "\\\\end{table}\n",
    "\"\"\"\n",
    "\n",
    "# Print LaTeX table code\n",
    "print(latex_table)\n"
   ]
  },
  {
   "cell_type": "code",
   "execution_count": 12,
   "metadata": {},
   "outputs": [
    {
     "name": "stdout",
     "output_type": "stream",
     "text": [
      "\n",
      "\\begin{table}[ht]\n",
      "\\centering\n",
      "\\begin{tabular}{|c|\" + \"c\" * len(data_dict) + \"|}\n",
      "\\hline\n",
      "Divisor & ./result_1/value_test_mv_50_gaussian_2.npz & ./result_1/value_test_mv_100_gaussian_2.npz & ./result_1/value_test_mv_200_gaussian_2.npz & ./result_1/value_test_mv_400_gaussian_2.npz & ./result_1/value_test_mv_800_gaussian_2.npz \\\\\n",
      "\\hline\n",
      "0.0 & 0.621 & 0.628 & 0.633 & 0.634 & 0.635 & 0.630 \\\\ \n",
      "0.1 & 0.567 & 0.574 & 0.578 & 0.579 & 0.580 & 0.576 \\\\ \n",
      "0.2 & 0.513 & 0.518 & 0.522 & 0.523 & 0.524 & 0.521 \\\\ \n",
      "0.3 & 0.457 & 0.462 & 0.465 & 0.466 & 0.467 & 0.465 \\\\ \n",
      "0.4 & 0.399 & 0.404 & 0.407 & 0.408 & 0.408 & 0.407 \\\\ \n",
      "0.5 & 0.339 & 0.343 & 0.346 & 0.346 & 0.347 & 0.346 \\\\ \n",
      "0.6 & 0.276 & 0.279 & 0.281 & 0.281 & 0.282 & 0.281 \\\\ \n",
      "0.7 & 0.207 & 0.209 & 0.211 & 0.211 & 0.211 & 0.211 \\\\ \n",
      "0.8 & 0.129 & 0.131 & 0.132 & 0.132 & 0.132 & 0.132 \\\\ \n",
      "0.9 & 0.039 & 0.040 & 0.040 & 0.040 & 0.040 & 0.040 \\\\ \n",
      "\n",
      "\\hline\n",
      "\\end{tabular}\n",
      "\\caption{Values of `value_test1` for different test cases.}\n",
      "\\label{tab:value_test1}\n",
      "\\end{table}\n",
      "\n"
     ]
    }
   ],
   "source": [
    "import numpy as np\n",
    "\n",
    "# File paths and their corresponding divisors\n",
    "data_files = [\n",
    "    (\"./result_1/value_test_mv_50_gaussian_2.npz\", 50),\n",
    "    (\"./result_1/value_test_mv_100_gaussian_2.npz\", 100),\n",
    "    (\"./result_1/value_test_mv_200_gaussian_2.npz\", 200),\n",
    "    (\"./result_1/value_test_mv_400_gaussian_2.npz\", 400),\n",
    "    (\"./result_1/value_test_mv_800_gaussian_2.npz\", 800)\n",
    "]\n",
    "\n",
    "# Load the data and create lists to store the values\n",
    "data_dict = {}\n",
    "for file_path, divisor in data_files:\n",
    "    data = np.load(file_path)\n",
    "    values = data[\"value_test1\"] / divisor\n",
    "    data_dict[divisor] = values\n",
    "data_dict[\"exact\"] = np.load(\"./result_1/value_test_mv_50_gaussian_2.npz\")[\"value_test2\"]/50\n",
    "# Get the maximum length of the value lists\n",
    "max_length = max(len(values) for values in data_dict.values())\n",
    "\n",
    "# Initialize the LaTeX table with headers\n",
    "latex_table = \"\"\"\n",
    "\\\\begin{table}[ht]\n",
    "\\\\centering\n",
    "\\\\begin{tabular}{|c|\" + \"c\" * len(data_dict) + \"|}\n",
    "\\\\hline\n",
    "Divisor & \"\"\" + \" & \".join(f\"{divisor}\" for divisor, _ in data_files) + \"\"\" \\\\\\\\\n",
    "\\\\hline\n",
    "\"\"\"\n",
    "\n",
    "# Add rows for each index\n",
    "for i in range(max_length):\n",
    "    row = [str(i/10)]  # Start with the index column\n",
    "    for divisor in [50, 100, 200, 400, 800,\"exact\"]:\n",
    "        row.append(f\"{data_dict[divisor][i]:.3f}\" if i < len(data_dict[divisor]) else \"N/A\")\n",
    "    latex_table += \" & \".join(row) + \" \\\\\\\\ \\n\"\n",
    "\n",
    "# Close the LaTeX table\n",
    "latex_table += \"\"\"\n",
    "\\\\hline\n",
    "\\\\end{tabular}\n",
    "\\\\caption{Values of `value_test1` for different test cases.}\n",
    "\\\\label{tab:value_test1}\n",
    "\\\\end{table}\n",
    "\"\"\"\n",
    "\n",
    "# Print LaTeX table code\n",
    "print(latex_table)\n"
   ]
  },
  {
   "cell_type": "code",
   "execution_count": 15,
   "metadata": {},
   "outputs": [
    {
     "data": {
      "text/plain": [
       "(array([8.50905365e-04, 1.70181936e-03, 4.25452683e-03, 4.25454841e-03,\n",
       "        9.35995902e-03, 2.04218323e-02, 2.63780663e-02, 4.42471912e-02,\n",
       "        6.12653417e-02, 1.05512533e-01, 1.59970209e-01, 2.05068713e-01,\n",
       "        2.79948575e-01, 4.05882889e-01, 5.13948144e-01, 6.37329735e-01,\n",
       "        8.54311153e-01, 1.00321743e+00, 1.24062317e+00, 1.43633190e+00,\n",
       "        1.60736431e+00, 1.69926232e+00, 1.86093475e+00, 1.89582196e+00,\n",
       "        1.90262922e+00, 1.84901736e+00, 1.72308773e+00, 1.59289888e+00,\n",
       "        1.48228091e+00, 1.25168497e+00, 1.07469484e+00, 9.08769235e-01,\n",
       "        7.96449442e-01, 6.39030740e-01, 4.94377271e-01, 4.47577357e-01,\n",
       "        3.85461108e-01, 3.67591584e-01, 4.62893693e-01, 4.85868196e-01,\n",
       "        6.35627517e-01, 7.29227285e-01, 9.32594645e-01, 1.09511729e+00,\n",
       "        1.33167027e+00, 1.46100729e+00, 1.65161124e+00, 1.81668670e+00,\n",
       "        1.89837408e+00, 1.82349424e+00, 1.81328336e+00, 1.85242509e+00,\n",
       "        1.68990181e+00, 1.47802590e+00, 1.38272385e+00, 1.18191055e+00,\n",
       "        1.00577205e+00, 7.91343997e-01, 6.47540215e-01, 5.46282284e-01,\n",
       "        4.60340970e-01, 4.21199224e-01, 3.96522403e-01, 3.70144773e-01,\n",
       "        4.85868196e-01, 6.29671567e-01, 6.84128781e-01, 8.61118414e-01,\n",
       "        1.03725627e+00, 1.19211993e+00, 1.33677572e+00, 1.55460804e+00,\n",
       "        1.74265861e+00, 1.83115299e+00, 1.89411534e+00, 1.90603285e+00,\n",
       "        1.90177831e+00, 1.71628047e+00, 1.65756786e+00, 1.41165558e+00,\n",
       "        1.22785956e+00, 1.07469620e+00, 9.16425079e-01, 7.15613227e-01,\n",
       "        5.75213486e-01, 4.16093779e-01, 2.83352205e-01, 2.14428696e-01,\n",
       "        1.68479690e-01, 1.06363171e-01, 7.14762320e-02, 5.78617116e-02,\n",
       "        2.63781332e-02, 1.19126751e-02, 1.10618259e-02, 5.95633756e-03,\n",
       "        8.50909681e-04, 3.40362146e-03, 2.55272904e-03, 2.55271610e-03]),\n",
       " array([-0.58331543, -0.57156324, -0.55981112, -0.54805893, -0.5363068 ,\n",
       "        -0.52455461, -0.51280248, -0.50105029, -0.48929814, -0.47754598,\n",
       "        -0.46579382, -0.45404163, -0.44228947, -0.43053731, -0.41878515,\n",
       "        -0.407033  , -0.39528084, -0.38352868, -0.37177649, -0.36002433,\n",
       "        -0.34827217, -0.33652002, -0.32476786, -0.3130157 , -0.30126354,\n",
       "        -0.28951138, -0.27775919, -0.26600704, -0.25425488, -0.24250272,\n",
       "        -0.23075056, -0.21899839, -0.20724623, -0.19549407, -0.1837419 ,\n",
       "        -0.17198974, -0.16023758, -0.14848542, -0.13673325, -0.12498109,\n",
       "        -0.11322893, -0.10147677, -0.0897246 , -0.07797244, -0.06622028,\n",
       "        -0.05446812, -0.04271595, -0.03096379, -0.01921163, -0.00745947,\n",
       "         0.0042927 ,  0.01604486,  0.02779702,  0.03954918,  0.05130135,\n",
       "         0.06305351,  0.07480567,  0.08655784,  0.09830999,  0.11006216,\n",
       "         0.12181433,  0.13356648,  0.14531864,  0.15707082,  0.16882297,\n",
       "         0.18057513,  0.19232729,  0.20407946,  0.21583162,  0.22758378,\n",
       "         0.23933595,  0.25108811,  0.26284027,  0.27459243,  0.28634459,\n",
       "         0.29809678,  0.30984893,  0.32160109,  0.33335325,  0.34510541,\n",
       "         0.35685757,  0.36860973,  0.38036188,  0.39211407,  0.40386623,\n",
       "         0.41561839,  0.42737055,  0.43912271,  0.45087487,  0.46262702,\n",
       "         0.47437921,  0.48613137,  0.49788353,  0.50963569,  0.52138788,\n",
       "         0.53314   ,  0.54489219,  0.55664432,  0.56839651,  0.58014864,\n",
       "         0.59190083]),\n",
       " <BarContainer object of 100 artists>)"
      ]
     },
     "execution_count": 15,
     "metadata": {},
     "output_type": "execute_result"
    },
    {
     "data": {
      "image/png": "[encoded data removed]",
      "text/plain": [
       "<Figure size 640x480 with 1 Axes>"
      ]
     },
     "metadata": {},
     "output_type": "display_data"
    }
   ],
   "source": [
    "import numpy as np\n",
    "\n",
    "# File paths and their corresponding divisors\n",
    "data_files = [\n",
    "    (\"./result_1/value_test_mv_50_gaussian_2.npz\", 50),\n",
    "    (\"./result_1/value_test_mv_100_gaussian_2.npz\", 100),\n",
    "    (\"./result_1/value_test_mv_200_gaussian_2.npz\", 200),\n",
    "    (\"./result_1/value_test_mv_400_gaussian_2.npz\", 400),\n",
    "    (\"./result_1/value_test_mv_800_gaussian_2.npz\", 800)\n",
    "]\n",
    "\n",
    "# Load the data and create lists to store the values\n",
    "data_dict = {}\n",
    "for file_path, divisor in data_files:\n",
    "    data = np.load(file_path)\n",
    "    values = data[\"value_test1\"] / divisor\n",
    "    data_dict[divisor] = values\n",
    "data_dict[\"exact\"] = np.load(\"./result_1/value_test_mv_50_gaussian_2.npz\")[\"value_test2\"]/50\n",
    "# Get the maximum length of the value lists\n",
    "max_length = max(len(values) for values in data_dict.values())\n",
    "\n",
    "# Initialize the LaTeX table with headers\n",
    "latex_table = \"\"\"\n",
    "\\\\begin{table}[ht]\n",
    "\\\\centering\n",
    "\\\\begin{tabular}{|c|\" + \"c\" * len(data_dict) + \"|}\n",
    "\\\\hline\n",
    "Divisor & \"\"\" + \" & \".join(f\"{divisor}\" for divisor, _ in data_files) + \"\"\" \\\\\\\\\n",
    "\\\\hline\n",
    "\"\"\"\n",
    "\n",
    "# Add rows for each index\n",
    "for i in range(max_length):\n",
    "    row = [str(i/10)]  # Start with the index column\n",
    "    for divisor in [50, 100, 200, 400, 800,\"exact\"]:\n",
    "        row.append(f\"{data_dict[divisor][i]:.3f}\" if i < len(data_dict[divisor]) else \"N/A\")\n",
    "    latex_table += \" & \".join(row) + \" \\\\\\\\ \\n\"\n",
    "\n",
    "# Close the LaTeX table\n",
    "latex_table += \"\"\"\n",
    "\\\\hline\n",
    "\\\\end{tabular}\n",
    "\\\\caption{Values of `value_test1` for different test cases.}\n",
    "\\\\label{tab:value_test1}\n",
    "\\\\end{table}\n",
    "\"\"\"\n",
    "\n",
    "# Print LaTeX table code\n",
    "print(latex_table)\n"
   ]
  }
 ],
 "metadata": {
  "kernelspec": {
   "display_name": "Python 3",
   "language": "python",
   "name": "python3"
  },
  "language_info": {
   "codemirror_mode": {
    "name": "ipython",
    "version": 3
   },
   "file_extension": ".py",
   "mimetype": "text/x-python",
   "name": "python",
   "nbconvert_exporter": "python",
   "pygments_lexer": "ipython3",
   "version": "3.12.4"
  }
 },
 "nbformat": 4,
 "nbformat_minor": 2
}
